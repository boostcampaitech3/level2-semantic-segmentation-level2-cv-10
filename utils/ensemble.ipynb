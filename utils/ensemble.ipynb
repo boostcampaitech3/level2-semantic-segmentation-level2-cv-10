{
 "cells": [
  {
   "cell_type": "markdown",
   "id": "92e4d206-7d6c-4cc8-a03c-105bf5cb2d95",
   "metadata": {},
   "source": [
    "#### 실행 위치: input/code/ensemble.ipynb\n",
    "#### 앙상블할 csv파일들 위치: input/code/output_csv/\n",
    "#### csv파일 이름: mIoU값이 먼저 오도록 설정(점수순으로 정렬하기 위함) ex) 7067_beit.csv"
   ]
  },
  {
   "cell_type": "code",
   "execution_count": 81,
   "id": "794a236a-2995-4ebb-95c3-e8d58fe1460c",
   "metadata": {},
   "outputs": [],
   "source": [
    "import pandas as pd\n",
    "import numpy as np\n",
    "from PIL import Image\n",
    "\n",
    "from tqdm import tqdm\n",
    "import os\n",
    "\n",
    "import matplotlib.pyplot as plt\n",
    "import seaborn as sns\n",
    "from matplotlib.patches import Patch\n",
    "import webcolors\n",
    "plt.rcParams['axes.grid'] = False"
   ]
  },
  {
   "cell_type": "code",
   "execution_count": null,
   "id": "9ed4466d-84d4-4e73-ad1e-d91dba66195c",
   "metadata": {},
   "outputs": [
    {
     "name": "stderr",
     "output_type": "stream",
     "text": [
      "  0%|          | 0/624 [00:00<?, ?it/s]"
     ]
    },
    {
     "name": "stdout",
     "output_type": "stream",
     "text": [
      "ensemble 3 csv files\n"
     ]
    },
    {
     "name": "stderr",
     "output_type": "stream",
     "text": [
      "100%|██████████| 624/624 [05:11<00:00,  2.00it/s]\n"
     ]
    }
   ],
   "source": [
    "output_list = os.listdir('./output_csv')\n",
    "if '.ipynb_checkpoints' in output_list:\n",
    "    output_list.remove('.ipynb_checkpoints')\n",
    "output_list.sort(reverse=True)\n",
    "\n",
    "# pandas dataframe으로 만들어줍니다.\n",
    "df_list = []\n",
    "\n",
    "for output in output_list:\n",
    "    df_list.append(pd.read_csv(f'./output_csv/{output}'))\n",
    "\n",
    "print('ensemble {} csv files'.format(len(df_list)))\n",
    "    \n",
    "# submission dataframe\n",
    "submission = pd.DataFrame()\n",
    "submission['image_id'] = df_list[0]['image_id']\n",
    "\n",
    "# pixel-wise hard voting 진행\n",
    "PredictionString = []\n",
    "\n",
    "for idx in tqdm(range(len(df_list[0]))):\n",
    "    # 각 모델이 뽑은 pixel 넣을 리스트\n",
    "    pixel_list = []\n",
    "    \n",
    "    for i in range(len(df_list)):\n",
    "        pixel_list.append(df_list[i]['PredictionString'][idx].split(' '))\n",
    "\n",
    "    result = ''\n",
    "\n",
    "    for i in range(len(pixel_list[0])):\n",
    "        pixel_count = {'0' : 0, '1' : 0, '2' : 0, \n",
    "                      '3' : 0, '4' : 0, '5' : 0,\n",
    "                      '6' : 0, '7' : 0, '8' : 0,\n",
    "                      '9' : 0, '10' : 0}\n",
    "        \n",
    "        # 각 모델이 뽑은 pixel count\n",
    "        for j in range(len(pixel_list)):\n",
    "            pixel_count[pixel_list[j][i]] += 1\n",
    "        \n",
    "        # 제일 많이 vote된 pixel 값\n",
    "        voted_pixel = [key for key, value in pixel_count.items() if value == max(pixel_count.values())]\n",
    "\n",
    "        # voted_pixel이 1개인 경우\n",
    "        if len(voted_pixel) == 1:\n",
    "            result += voted_pixel[0] + ' '\n",
    "        # 동점이 나온 경우\n",
    "        else:\n",
    "            # 성능이 좋았던 모델부터 값이 voted_pixel에 있다면 result로 고르기\n",
    "            for j in range(len(pixel_list)):\n",
    "                pixel_candidate = pixel_list[j][i]\n",
    "\n",
    "                if pixel_candidate in voted_pixel:\n",
    "                    result += pixel_candidate + ' '\n",
    "                    break\n",
    "    \n",
    "    # 마지막 공백 제거\n",
    "    result = result[:-1]\n",
    "\n",
    "    PredictionString.append(result)\n",
    "    \n",
    "# submission csv 만들기\n",
    "submission['PredictionString'] = PredictionString\n",
    "submission.to_csv('./hard_voted_output.csv', index=False)"
   ]
  },
  {
   "cell_type": "code",
   "execution_count": null,
   "id": "85e09c31-2b93-4cc2-958d-ad01571a17fc",
   "metadata": {},
   "outputs": [],
   "source": []
  },
  {
   "cell_type": "markdown",
   "id": "616ce367-5d01-406c-8e44-09331415db01",
   "metadata": {},
   "source": [
    "### Extra) 결과 분석 및 시각화"
   ]
  },
  {
   "cell_type": "markdown",
   "id": "93d67ff4-9aa6-4003-abf5-a934d907f6f1",
   "metadata": {},
   "source": [
    "#### 성능 가장 좋았던 csv에서 바뀐 픽셀 비율"
   ]
  },
  {
   "cell_type": "code",
   "execution_count": 91,
   "id": "2e17bdb8-a54d-4beb-ba0b-9151cc0cefc3",
   "metadata": {},
   "outputs": [
    {
     "name": "stderr",
     "output_type": "stream",
     "text": [
      "100%|██████████| 624/624 [00:09<00:00, 67.68it/s]"
     ]
    },
    {
     "name": "stdout",
     "output_type": "stream",
     "text": [
      "바뀐 픽셀 비율: 1.7766365638146033 %\n"
     ]
    },
    {
     "name": "stderr",
     "output_type": "stream",
     "text": [
      "\n"
     ]
    }
   ],
   "source": [
    "best = pd.read_csv('./output_csv/7067_beit.csv') # single모델 중 가장 성능 좋았던 제출 파일\n",
    "ensemble = pd.read_csv('hard_voted_output.csv') # 앙상블한 결과 파일\n",
    "\n",
    "dic = {}\n",
    "cnt = 0\n",
    "for i in tqdm(range(624)):\n",
    "    best_result = best['PredictionString'][i].split()\n",
    "    ensemble_result = ensemble['PredictionString'][i].split()\n",
    "    for j in range(0,65536):\n",
    "        if best_result[j] != ensemble_result[j]:\n",
    "            cnt += 1\n",
    "            if (best_result[j],ensemble_result[j]) not in dic:\n",
    "                dic[(best_result[j],ensemble_result[j])] = 1\n",
    "            else:\n",
    "                dic[(best_result[j],ensemble_result[j])] += 1\n",
    "\n",
    "print('바뀐 픽셀 비율:', 100*cnt/(624*256*256),'%')"
   ]
  },
  {
   "cell_type": "markdown",
   "id": "30ffe290-1d5b-40f7-b138-a0607ebf597e",
   "metadata": {},
   "source": [
    "#### 성능 가장 좋았던 csv -> ensemble로 바뀐 카테고리 "
   ]
  },
  {
   "cell_type": "code",
   "execution_count": 92,
   "id": "0446359a-3bc2-4581-93d9-4855565040c9",
   "metadata": {},
   "outputs": [
    {
     "data": {
      "image/png": "[encoded data removed]",
      "text/plain": [
       "<Figure size 504x432 with 2 Axes>"
      ]
     },
     "metadata": {
      "needs_background": "light"
     },
     "output_type": "display_data"
    }
   ],
   "source": [
    "classes = ['Background','General trash','Paper','Paper pack','Metal','Glass','Plastic',\n",
    "           'Styrofoam','Plastic bag','Battery','Clothing']\n",
    "\n",
    "changed = np.zeros((11,11))\n",
    "for info,num in dic.items():\n",
    "    changed[int(info[0])][int(info[1])] = int(num)\n",
    "    \n",
    "plt.figure(figsize=(7,6))\n",
    "sns.heatmap(changed,xticklabels=classes,yticklabels=classes,linewidth=0.1)\n",
    "plt.show()"
   ]
  },
  {
   "cell_type": "markdown",
   "id": "ce279940-dee9-46e2-a6b7-51845be85a80",
   "metadata": {},
   "source": [
    "#### ensemble 결과 시각화\n",
    "사용 방법: 확인하고자 하는 test set의 index를 index_list에 넣고 plot_examples(index_list) 실행"
   ]
  },
  {
   "cell_type": "code",
   "execution_count": 93,
   "id": "58a7ba0c-1a63-444c-8add-c152ca5e3ee7",
   "metadata": {},
   "outputs": [],
   "source": [
    "class_colormap = pd.read_csv(\"class_dict.csv\")\n",
    "\n",
    "def create_trash_label_colormap():\n",
    "    colormap = np.zeros((11, 3), dtype=np.uint8)\n",
    "    for inex, (_, r, g, b) in enumerate(class_colormap.values):\n",
    "        colormap[inex] = [r, g, b]\n",
    "    return colormap\n",
    "\n",
    "def label_to_color_image(label):\n",
    "    if label.ndim != 2:\n",
    "        raise ValueError('Expect 2-D input label')\n",
    "    colormap = create_trash_label_colormap()\n",
    "    if np.max(label) >= len(colormap):\n",
    "        raise ValueError('label value too large.')\n",
    "    return colormap[label]\n",
    "\n",
    "def plot_examples(index_list):\n",
    "    category_and_rgb = [[category, (r,g,b)] for idx, (category, r, g, b) in enumerate(class_colormap.values)]\n",
    "    legend_elements = [Patch(facecolor=webcolors.rgb_to_hex(rgb), \n",
    "                             edgecolor=webcolors.rgb_to_hex(rgb), \n",
    "                             label=category) for category, rgb in category_and_rgb]\n",
    "    fig, ax = plt.subplots(nrows=len(index_list), ncols=3, figsize=(12, 4*len(index_list)), constrained_layout=True)\n",
    "    for i in range(len(index_list)):\n",
    "        folder = best['image_id'][i].split('/')[0]\n",
    "        img_id = best['image_id'][i].split('/')[1]\n",
    "        img_path = '../data/'+folder+'/'+img_id\n",
    "        image = Image.open(img_path)\n",
    "        best_mask = np.array(list(map(int,best['PredictionString'][i].split()))).reshape(256,256)\n",
    "        ensemble_mask = np.array(list(map(int,ensemble['PredictionString'][i].split()))).reshape(256,256)\n",
    "        ax[i][0].imshow(image)\n",
    "        ax[i][0].set_title(f\"Orignal Image\")\n",
    "        ax[i][1].imshow(label_to_color_image(best_mask))\n",
    "        ax[i][1].set_title(f\"Best(Single Model)\")\n",
    "        ax[i][2].imshow(label_to_color_image(ensemble_mask))\n",
    "        ax[i][2].set_title(f\"Ensemble\")\n",
    "        ax[i][2].legend(handles=legend_elements, bbox_to_anchor=(1.05, 1), loc=2, borderaxespad=0)\n",
    "    plt.show()"
   ]
  },
  {
   "cell_type": "code",
   "execution_count": null,
   "id": "c7ef0650-fb3a-415b-8711-b6be007a1698",
   "metadata": {},
   "outputs": [],
   "source": [
    "index_list = [x for x in range(10)]\n",
    "plot_examples(index_list)"
   ]
  }
 ],
 "metadata": {
  "kernelspec": {
   "display_name": "Python 3 (ipykernel)",
   "language": "python",
   "name": "python3"
  },
  "language_info": {
   "codemirror_mode": {
    "name": "ipython",
    "version": 3
   },
   "file_extension": ".py",
   "mimetype": "text/x-python",
   "name": "python",
   "nbconvert_exporter": "python",
   "pygments_lexer": "ipython3",
   "version": "3.8.5"
  }
 },
 "nbformat": 4,
 "nbformat_minor": 5
}
